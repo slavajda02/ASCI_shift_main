{
 "cells": [
  {
   "cell_type": "code",
   "execution_count": 3,
   "metadata": {},
   "outputs": [
    {
     "name": "stdout",
     "output_type": "stream",
     "text": [
      "Error\n"
     ]
    }
   ],
   "source": [
    "if \"s\" and \"s\":\n",
    "    print(\"Error\")\n"
   ]
  },
  {
   "cell_type": "code",
   "execution_count": 1,
   "metadata": {},
   "outputs": [
    {
     "data": {
      "text/plain": [
       "{'family': '.AppleSystemUIFont',\n",
       " 'size': 13,\n",
       " 'weight': 'normal',\n",
       " 'slant': 'roman',\n",
       " 'underline': 0,\n",
       " 'overstrike': 0}"
      ]
     },
     "execution_count": 1,
     "metadata": {},
     "output_type": "execute_result"
    },
    {
     "ename": "",
     "evalue": "",
     "output_type": "error",
     "traceback": [
      "\u001b[1;31mPři provádění kódu v aktuální buňce nebo předchozí buňce došlo k chybovému ukončení Kernel. Zkontrolujte prosím kód v buňkách a identifikujte možnou příčinu selhání. Další informace zobrazíte kliknutím <a href='https://aka.ms/vscodeJupyterKernelCrash'>sem</a>. Další podrobnosti najdete v [protokolu] Jupyter (command:jupyter.viewOutput)."
     ]
    }
   ],
   "source": [
    "import tkinter\n",
    "from tkinter import font\n",
    "\n",
    "root = tkinter.Tk()  # Start Tk instance\n",
    "your_font = font.nametofont(\"TkDefaultFont\")  # Get default font value into Font object\n",
    "your_font.actual()"
   ]
  }
 ],
 "metadata": {
  "kernelspec": {
   "display_name": "Python 3.10.6 64-bit",
   "language": "python",
   "name": "python3"
  },
  "language_info": {
   "codemirror_mode": {
    "name": "ipython",
    "version": 3
   },
   "file_extension": ".py",
   "mimetype": "text/x-python",
   "name": "python",
   "nbconvert_exporter": "python",
   "pygments_lexer": "ipython3",
   "version": "3.10.6"
  },
  "orig_nbformat": 4,
  "vscode": {
   "interpreter": {
    "hash": "aee8b7b246df8f9039afb4144a1f6fd8d2ca17a180786b69acc140d282b71a49"
   }
  }
 },
 "nbformat": 4,
 "nbformat_minor": 2
}
